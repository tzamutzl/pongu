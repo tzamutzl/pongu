{
 "cells": [
  {
   "cell_type": "code",
   "execution_count": 9,
   "metadata": {},
   "outputs": [],
   "source": [
    "import random"
   ]
  },
  {
   "cell_type": "code",
   "execution_count": 2,
   "metadata": {},
   "outputs": [],
   "source": [
    "raz = 'ʔ'\n",
    "vs = ['i','ø','ə','a','ɔ','u'] #vocals short\n",
    "vl = ['iː','øː','aː','ɔː','uː'] #vocals long\n",
    "c1 = ['p','t','c','k','ɸ','s','ʃ','ɕ','x','w','j','l','ʎ','m','n','ɲ','ŋ'] #consonant\n",
    "c2 = ['p','t','c','k','ɸ','s','ʃ','ɕ','x'] #nonvibrant cons.\n",
    "r  = ['j','w','l','ʎ','m','n','ɲ','ŋ'] #vibrant\n",
    "rs = ['l','ʎ','m','n','ɲ','ŋ'] #vibrant short sylabic\n",
    "rl = ['lː','ʎː','mː','nː','ɲː','ŋː'] #vibrant long sylabic"
   ]
  },
  {
   "cell_type": "code",
   "execution_count": 3,
   "metadata": {},
   "outputs": [],
   "source": [
    "RazV = [raz+fonem for fonem in vs]\n",
    "RazVl = [raz+fonem for fonem in vl]"
   ]
  },
  {
   "cell_type": "code",
   "execution_count": 4,
   "metadata": {},
   "outputs": [],
   "source": [
    "RazVC = []\n",
    "for segment in RazV:\n",
    "    for cons in c1:\n",
    "        RazVC.append(segment+cons)"
   ]
  },
  {
   "cell_type": "code",
   "execution_count": 5,
   "metadata": {},
   "outputs": [],
   "source": [
    "RazVlC = []\n",
    "for segment in RazVl:\n",
    "    for cons in c1:\n",
    "        RazVlC.append(segment+cons)"
   ]
  },
  {
   "cell_type": "code",
   "execution_count": 11,
   "metadata": {},
   "outputs": [],
   "source": [
    "slabiky = {\"RazVlC\": RazVlC,\"RazVC\": RazVC}"
   ]
  },
  {
   "cell_type": "code",
   "execution_count": 7,
   "metadata": {},
   "outputs": [
    {
     "name": "stdout",
     "output_type": "stream",
     "text": [
      "{'RazVlC': ['ʔiːp', 'ʔiːt', 'ʔiːc', 'ʔiːk', 'ʔiːɸ', 'ʔiːs', 'ʔiːʃ', 'ʔiːɕ', 'ʔiːx', 'ʔiːw', 'ʔiːj', 'ʔiːl', 'ʔiːʎ', 'ʔiːm', 'ʔiːn', 'ʔiːɲ', 'ʔiːŋ', 'ʔøːp', 'ʔøːt', 'ʔøːc', 'ʔøːk', 'ʔøːɸ', 'ʔøːs', 'ʔøːʃ', 'ʔøːɕ', 'ʔøːx', 'ʔøːw', 'ʔøːj', 'ʔøːl', 'ʔøːʎ', 'ʔøːm', 'ʔøːn', 'ʔøːɲ', 'ʔøːŋ', 'ʔaːp', 'ʔaːt', 'ʔaːc', 'ʔaːk', 'ʔaːɸ', 'ʔaːs', 'ʔaːʃ', 'ʔaːɕ', 'ʔaːx', 'ʔaːw', 'ʔaːj', 'ʔaːl', 'ʔaːʎ', 'ʔaːm', 'ʔaːn', 'ʔaːɲ', 'ʔaːŋ', 'ʔɔːp', 'ʔɔːt', 'ʔɔːc', 'ʔɔːk', 'ʔɔːɸ', 'ʔɔːs', 'ʔɔːʃ', 'ʔɔːɕ', 'ʔɔːx', 'ʔɔːw', 'ʔɔːj', 'ʔɔːl', 'ʔɔːʎ', 'ʔɔːm', 'ʔɔːn', 'ʔɔːɲ', 'ʔɔːŋ', 'ʔuːp', 'ʔuːt', 'ʔuːc', 'ʔuːk', 'ʔuːɸ', 'ʔuːs', 'ʔuːʃ', 'ʔuːɕ', 'ʔuːx', 'ʔuːw', 'ʔuːj', 'ʔuːl', 'ʔuːʎ', 'ʔuːm', 'ʔuːn', 'ʔuːɲ', 'ʔuːŋ']}\n"
     ]
    }
   ],
   "source": [
    "print(slabiky)"
   ]
  },
  {
   "cell_type": "code",
   "execution_count": 19,
   "metadata": {},
   "outputs": [],
   "source": [
    "syltypes = [\"RazVlC\",\"RazVC\"]"
   ]
  },
  {
   "cell_type": "code",
   "execution_count": 20,
   "metadata": {},
   "outputs": [
    {
     "data": {
      "text/plain": [
       "'ʔus'"
      ]
     },
     "execution_count": 20,
     "metadata": {},
     "output_type": "execute_result"
    }
   ],
   "source": [
    "random.choice(slabiky[random.choice(syltypes)])"
   ]
  },
  {
   "cell_type": "code",
   "execution_count": 18,
   "metadata": {},
   "outputs": [
    {
     "data": {
      "text/plain": [
       "[dict_keys(['RazVlC', 'RazVC'])]"
      ]
     },
     "execution_count": 18,
     "metadata": {},
     "output_type": "execute_result"
    }
   ],
   "source": [
    "slabiky.keys()"
   ]
  },
  {
   "cell_type": "code",
   "execution_count": 117,
   "metadata": {},
   "outputs": [],
   "source": [
    "import random\n",
    "\n",
    "#definujeme premenne\n",
    "raz = 'ʔ'\n",
    "vs = ['i','ø','ə','a','ɔ','u'] #vocals short\n",
    "vl = ['iː','øː','aː','ɔː','uː'] #vocals long\n",
    "c1 = ['p','t','c','k','ɸ','s','ʃ','ɕ','x','w','j','l','ʎ','m','n','ɲ','ŋ'] #consonant\n",
    "c2 = ['p','t','c','k','ɸ','s','ʃ','ɕ','x'] #nonvibrant cons.\n",
    "r  = ['j','w','l','ʎ','m','n','ɲ','ŋ'] #vibrant\n",
    "m  = ['m','n','ɲ','ŋ'] #nasal\n",
    "rs = ['l','ʎ','m','n','ɲ','ŋ'] #vibrant short sylabic\n",
    "rl = ['lː','ʎː','mː','nː','ɲː','ŋː'] #vibrant long sylabic\n",
    "\n",
    "#TVORBA SLABIK\n",
    "# I. a) ʔV, ʔV:\n",
    "RazV = [raz+fonem for fonem in vs]\n",
    "RazVl = [raz+fonem for fonem in vl]\n",
    "\n",
    "# I. b) ʔVC\n",
    "RazVC = []\n",
    "for segment in RazV:\n",
    "    for cons in c1:\n",
    "        RazVC.append(segment+cons)\n",
    "\n",
    "RazVlC = []\n",
    "for segment in RazVl:\n",
    "    for cons in c1:\n",
    "        RazVlC.append(segment+cons)\n",
    "        \n",
    "# II. a) CV, CV:\n",
    "CV = []\n",
    "for segment in c1:\n",
    "    for vocal in vs:\n",
    "        CV.append(segment+vocal)\n",
    "        \n",
    "CVl = []\n",
    "for segment in c1:\n",
    "    for vocal in vl:\n",
    "        CVl.append(segment+vocal)\n",
    "        \n",
    "# II. b) CVC, CV:C\n",
    "CVC = []\n",
    "for segment in CV:\n",
    "    for cons in c1:\n",
    "        CVC.append(segment+cons)\n",
    "        \n",
    "CVlC = []\n",
    "for segment in CVl:\n",
    "    for cons in c1:\n",
    "        CVC.append(segment+cons)\n",
    "        \n",
    "# III. a) R:C\n",
    "RlC = []\n",
    "for segment in rl:\n",
    "    for cons in c2:\n",
    "        CVC.append(segment+cons)\n",
    "        \n",
    "# III. b) CRC\n",
    "CRC = []\n",
    "for seg1 in c2:\n",
    "    for seg2 in rs:\n",
    "        for seg3 in c2:\n",
    "            CRC.append(seg1+seg2+seg3)\n",
    "            \n",
    "# III. b) CR:C\n",
    "CRlC = []\n",
    "for seg1 in c2:\n",
    "    for seg2 in rl:\n",
    "        for seg3 in c2:\n",
    "            CRC.append(seg1+seg2+seg3)\n",
    "            \n",
    "# INVENTAR SLABIK\n",
    "\n",
    "slabiky = {\n",
    "    \"RazV\": RazV,\n",
    "    \"RazVl\": RazVl,\n",
    "    \"RazVC\": RazVC,\n",
    "    \"RazVlC\": RazVlC,\n",
    "    \"CV\": CV,\n",
    "    \"CVl\": CVl,\n",
    "    \"CVC\": CVC,\n",
    "    \"CVlC\": CVlC,\n",
    "    \"RlC\": RlC,\n",
    "    \"CRC\": CRC,\n",
    "    \"CRlC\": CRlC\n",
    "}\n",
    "syltype = (\n",
    "    \"RazV\",\n",
    "    \"RazVl\",\n",
    "    \"RazVC\",\n",
    "    \"RazVlC\",\n",
    "    \"CV\",\n",
    "    \"CVl\",\n",
    "    \"CVC\",\n",
    "    \"CVlC\",\n",
    "    \"RlC\",\n",
    "    \"CRC\",\n",
    "    \"CRlC\"\n",
    ")\n",
    "\n",
    "# KOMBINOVANIE SLABIK\n",
    "\n",
    "def sylab():\n",
    "    return random.choice(\n",
    "        slabiky[\n",
    "            random.choice(syltype)\n",
    "        ]\n",
    "    )"
   ]
  },
  {
   "cell_type": "code",
   "execution_count": 125,
   "metadata": {},
   "outputs": [
    {
     "data": {
      "text/plain": [
       "'mi'"
      ]
     },
     "execution_count": 125,
     "metadata": {},
     "output_type": "execute_result"
    }
   ],
   "source": [
    "sylab()"
   ]
  },
  {
   "cell_type": "code",
   "execution_count": null,
   "metadata": {},
   "outputs": [],
   "source": [
    "slabiky.()"
   ]
  },
  {
   "cell_type": "code",
   "execution_count": 119,
   "metadata": {},
   "outputs": [],
   "source": [
    "def slovo(syl=2):\n",
    "    w = ''\n",
    "    for i in range(syl):\n",
    "        prav = 0\n",
    "        while prav==0:\n",
    "            s = sylab()\n",
    "            if w == '': break # na zaciatku slova moze byt akakolvek slabika\n",
    "            else:    \n",
    "                if not (w[-1] in c1 and s.startswith('ʔ')): break # v strede slova nemoze byt slabika typu ʔV, ʔV:\n",
    "                else: print('za konsonantom nemoze nasledovat slabika typu ʔV, ʔV:', w+'-'+s)\n",
    "                if not (w[-1] in m and s[0] in m): break # nemozu byt vedla seba dve nazaly\n",
    "                else: print(\"nemozu byt vedla seba dve nazaly\" ,w+'-'+s)\n",
    "                if not ( (w[-1] in vs or w[-1] == 'ː') and s[0] in rs): break\n",
    "                else: print(\"Nenemoze byt vedla seba otvorena slabika a slabika s vibrantou\",w+'-'+s)\n",
    "        w += s\n",
    "    return w"
   ]
  },
  {
   "cell_type": "code",
   "execution_count": 116,
   "metadata": {},
   "outputs": [
    {
     "data": {
      "text/plain": [
       "'ŋɔːŋnuːxʃɲs'"
      ]
     },
     "execution_count": 116,
     "metadata": {},
     "output_type": "execute_result"
    }
   ],
   "source": [
    "slovo(syl=3)"
   ]
  }
 ],
 "metadata": {
  "kernelspec": {
   "display_name": "Python 3",
   "language": "python",
   "name": "python3"
  },
  "language_info": {
   "codemirror_mode": {
    "name": "ipython",
    "version": 3
   },
   "file_extension": ".py",
   "mimetype": "text/x-python",
   "name": "python",
   "nbconvert_exporter": "python",
   "pygments_lexer": "ipython3",
   "version": "3.7.0"
  }
 },
 "nbformat": 4,
 "nbformat_minor": 2
}
